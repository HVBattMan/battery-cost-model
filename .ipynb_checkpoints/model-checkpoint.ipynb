{
 "cells": [
  {
   "cell_type": "code",
   "execution_count": 1,
   "metadata": {},
   "outputs": [],
   "source": [
    "import numpy as np\n",
    "from scipy import stats\n",
    "import matplotlib.pyplot as plt\n",
    "import pandas as pd\n",
    "plt.rcParams['figure.figsize'] = [11,7]"
   ]
  },
  {
   "cell_type": "markdown",
   "metadata": {},
   "source": [
    "## 0. Assumptions and Constants"
   ]
  },
  {
   "cell_type": "code",
   "execution_count": 2,
   "metadata": {},
   "outputs": [],
   "source": [
    "#Molar Masses (dict):\n",
    "element_mw = {'li':6.94,'ni':58.69,'mn':54.94,'co':58.93,'al':26.98,'o':16.00}"
   ]
  },
  {
   "cell_type": "code",
   "execution_count": 3,
   "metadata": {},
   "outputs": [],
   "source": [
    "#Dimensions - 18650 cells\n",
    "width = 5.5 #cm\n",
    "length = 110 #cm\n",
    "one_sided_area = width*length #cm2, area ~ 600cm2 https://www.quora.com/What-is-the-surface-area-of-an-anode-in-a-single-18650-lithium-ion-battery\n",
    "\n",
    "#Echem characteristics\n",
    "# porosity = .3 #not sure if useful\n",
    "cat_loading = 25 #mg/cm2, this is active loading only. Everything that is per gram is on active material basis.\n",
    "avg_voltage = 3.6 #V\n",
    "an_capacity = 360 #mAh/g, graphite\n",
    "np_ratio = 1.02 #unitless, typical for commercial cells"
   ]
  },
  {
   "cell_type": "code",
   "execution_count": 4,
   "metadata": {},
   "outputs": [],
   "source": [
    "#Capacities\n",
    "nmc111_cap = 160 #mah/g active\n",
    "nmc523_cap = 165 #mah/g\n",
    "nmc622_cap = 170 #mah/g\n",
    "nmc811_cap = 180 #mah/g\n",
    "ni100_cap = 190 #mah/g\n",
    "nca801505_cap = 170 #mah/g\n",
    "nca880903_cap = 180 #mah/g\n",
    "nmc111mod_cap = 190 #mah/g"
   ]
  },
  {
   "cell_type": "markdown",
   "metadata": {},
   "source": [
    "This is a reasonable value for anode loading."
   ]
  },
  {
   "cell_type": "code",
   "execution_count": 5,
   "metadata": {},
   "outputs": [],
   "source": [
    "#Let's now calculate the total cell energy:\n",
    "def get_cell_energy(cat_capacity, cat_loading,one_sided_area=one_sided_area,avg_voltage=avg_voltage):\n",
    "    '''\n",
    "    Returns energy of one 18650 cell (in Wh) given a cathode specific capacity (mAh/g), cathode loading, \n",
    "    electrode area (cm^2), and average discharge voltage.\n",
    "    '''\n",
    "    two_sided_area = 2*one_sided_area #cm2\n",
    "    cell_capacity = cat_capacity*((cat_loading/1000)*two_sided_area)/1000 #Ah\n",
    "    cell_energy = cell_capacity*avg_voltage #Wh\n",
    "    return cell_energy #in Wh"
   ]
  },
  {
   "cell_type": "code",
   "execution_count": 6,
   "metadata": {},
   "outputs": [
    {
     "data": {
      "text/plain": [
       "20.691"
      ]
     },
     "execution_count": 6,
     "metadata": {},
     "output_type": "execute_result"
    }
   ],
   "source": [
    "get_cell_energy(ni100_cap, cat_loading)"
   ]
  },
  {
   "cell_type": "code",
   "execution_count": 7,
   "metadata": {},
   "outputs": [],
   "source": [
    "nmc111_energy = (get_cell_energy(nmc111_cap, cat_loading,one_sided_area,avg_voltage))\n",
    "nmc523_energy = (get_cell_energy(nmc523_cap, cat_loading,one_sided_area,avg_voltage))\n",
    "nmc622_energy = (get_cell_energy(nmc622_cap, cat_loading,one_sided_area,avg_voltage))\n",
    "nmc811_energy = (get_cell_energy(nmc811_cap, cat_loading,one_sided_area,avg_voltage))\n",
    "ni100_energy = (get_cell_energy(ni100_cap, cat_loading,one_sided_area,avg_voltage))\n",
    "nca801505_energy = (get_cell_energy(nca801505_cap, cat_loading,one_sided_area,avg_voltage))\n",
    "nca880903_energy = (get_cell_energy(nca880903_cap, cat_loading,one_sided_area,avg_voltage))\n",
    "nmc111mod_energy = (get_cell_energy(nmc111mod_cap, cat_loading,one_sided_area,avg_voltage))"
   ]
  },
  {
   "cell_type": "markdown",
   "metadata": {},
   "source": [
    "According to source, Panasonic had 13.6Wh cells in 2013. If we assume a 3% rate of capacity improvement over the past 6 years:"
   ]
  },
  {
   "cell_type": "code",
   "execution_count": 8,
   "metadata": {},
   "outputs": [
    {
     "name": "stdout",
     "output_type": "stream",
     "text": [
      "16.2391112327944\n"
     ]
    }
   ],
   "source": [
    "pana_cap_2019 = 13.6*(1.03)**6\n",
    "print(pana_cap_2019)"
   ]
  },
  {
   "cell_type": "markdown",
   "metadata": {},
   "source": [
    "With 16.3 Wh, we see that our modeled cell energies are in the same range as the estimated Panasonic capacity."
   ]
  },
  {
   "cell_type": "markdown",
   "metadata": {},
   "source": [
    "## 1. Cathode Cost\n",
    "The primary cost we're looking at is cathode cost. We will assume that all cells use the same cathode mass, and we will calculate the materials cost accordingly.\n",
    "#### Part 1: Material content per battery"
   ]
  },
  {
   "cell_type": "code",
   "execution_count": 9,
   "metadata": {},
   "outputs": [
    {
     "name": "stdout",
     "output_type": "stream",
     "text": [
      "Cathode active material mass per cell = 30.25 g\n"
     ]
    }
   ],
   "source": [
    "#Total cathode, binder, and conductor masses\n",
    "cat_mass_per_cell = cat_loading*.001 * 2*one_sided_area #g\n",
    "cblack_mass = 1/98 * cat_mass_per_cell\n",
    "pvdf_mass = 1/98 * cat_mass_per_cell\n",
    "print('Cathode active material mass per cell = '+ str(cat_mass_per_cell) + ' g')"
   ]
  },
  {
   "cell_type": "code",
   "execution_count": 10,
   "metadata": {},
   "outputs": [],
   "source": [
    "#Aluminum foil masses:\n",
    "al_density = 2.7 #g/cm3\n",
    "alfoil_thickness = 20 #um\n",
    "alfoil_mass = one_sided_area*(alfoil_thickness*1e-4)*al_density"
   ]
  },
  {
   "cell_type": "code",
   "execution_count": 11,
   "metadata": {},
   "outputs": [],
   "source": [
    "# To get metal contents for each cathode composition, we'll start by representing cathode chemical formulas as dicts.\n",
    "nmc111_formula = {'li':1,'ni':.333,'mn':.333,'co':.333,'al':0,'o':2}\n",
    "nmc523_formula = {'li':1,'ni':.5,'mn':.2,'co':.3,'al':0,'o':2}\n",
    "nmc622_formula = {'li':1,'ni':.6,'mn':.2,'co':.2,'al':0,'o':2}\n",
    "nmc811_formula = {'li':1,'ni':.8,'mn':.1,'co':.1,'al':0,'o':2}\n",
    "ni100_formula = {'li':1,'ni':1,'mn':0,'co':0,'al':0,'o':2}\n",
    "nca801505_formula = {'li':1,'ni':.8,'mn':0,'co':.15,'al':.05,'o':2}\n",
    "nca880903_formula = {'li':1,'ni':.88,'mn':0,'co':.09,'al':.03,'o':2}\n",
    "nmc111mod_formula = nmc111_formula"
   ]
  },
  {
   "cell_type": "code",
   "execution_count": 12,
   "metadata": {},
   "outputs": [],
   "source": [
    "# Calculating cells per kWh:\n",
    "def get_n_cells_per_kwh(cell_energy):\n",
    "    return 1000/cell_energy\n",
    "\n",
    "#Function for calculating molar mass\n",
    "def get_molar_mass(formula):\n",
    "    element_mw = {'li':6.94,'ni':58.69,'mn':54.94,'co':58.93,'al':26.98,'o':16.00}\n",
    "    molar_mass = 0\n",
    "    for i in formula:\n",
    "        molar_mass += formula[i]*element_mw[i]\n",
    "    return molar_mass"
   ]
  },
  {
   "cell_type": "code",
   "execution_count": 13,
   "metadata": {},
   "outputs": [],
   "source": [
    "#Now that we have molar masses, we can make a function to get total material mass per kWh:\n",
    "def get_material_mass_kwh(formula,cell_energy,cat_mass_per_cell=cat_mass_per_cell):\n",
    "    '''\n",
    "    Returns mass (in g) for each element of the cathode as a dict. \n",
    "    Inputs are chemical formula (as a dict), cell_energy (in Wh), and mass of cathode active material per cell.\n",
    "    '''\n",
    "    molar_mass = get_molar_mass(formula)\n",
    "    kwh_material_mass = {}\n",
    "    for i in formula:\n",
    "        cell_material_mass = cat_mass_per_cell*(formula[i]*element_mw[i])/get_molar_mass(formula)\n",
    "        kwh_material_mass[i] = cell_material_mass * get_n_cells_per_kwh(cell_energy)\n",
    "    return kwh_material_mass #in g"
   ]
  },
  {
   "cell_type": "code",
   "execution_count": 14,
   "metadata": {},
   "outputs": [
    {
     "data": {
      "text/plain": [
       "{'li': 124.98237712464568,\n",
       " 'ni': 351.9635205442848,\n",
       " 'mn': 329.47479670647476,\n",
       " 'co': 353.4027988699046,\n",
       " 'al': 0.0,\n",
       " 'o': 576.2876178658014}"
      ]
     },
     "execution_count": 14,
     "metadata": {},
     "output_type": "execute_result"
    }
   ],
   "source": [
    "get_material_mass_kwh(nmc111_formula,nmc111_energy)"
   ]
  },
  {
   "cell_type": "markdown",
   "metadata": {},
   "source": [
    "Therefore, our model tells us that 1kWh of NMC111 cells will contain 353.4g of cobalt. This is comparable to estimates from other sources (https://techcrunch.com/2017/01/01/no-cobalt-no-tesla/ says it is 360g Co per kWh.)"
   ]
  },
  {
   "cell_type": "markdown",
   "metadata": {},
   "source": [
    "#### Part 2: Adding in price data:\n",
    "Note: these figures are inherently very uncertain because contracts negotiated by large companies will differ substantially from open market prices. Additionally, the raw inputs to cathode syntheses are generally in the form of hydroxides (not metals), which adds additional process costs.\n",
    "\n",
    "Prices are from Bloomberg New Energy Finance for Li and Co, and from London Metals Exchange for the others. BNEF is likely more accurate because it takes into account more characteristics required for battery grade materials."
   ]
  },
  {
   "cell_type": "code",
   "execution_count": 15,
   "metadata": {},
   "outputs": [],
   "source": [
    "#Carbon black and PVDF\n",
    "cblack_price = 600 #USD/t, Zhengzhou Qiangjin Science And Technology Trading Co., Ltd.\n",
    "pvdf_price = 18 #USD/kg, Shenyang East Chemical Science-Tech Co., Ltd.\n",
    "alfoil_price = 2200 #USD/t (note this is a separate cost from al in the battery)"
   ]
  },
  {
   "cell_type": "code",
   "execution_count": 16,
   "metadata": {},
   "outputs": [],
   "source": [
    "#Metals prices\n",
    "oh_process_cost = 200 #cost to convert metal to metal hydroxide, assuming constant\n",
    "ni_price = 16305 + oh_process_cost #USD/metric ton (t)\n",
    "mn_price = 1610 + oh_process_cost #USD/t, from Shanghai Metals Market https://price.metal.com/Manganese\n",
    "co_price = 50000 + oh_process_cost #USD/t\n",
    "al_price = 1817.5 + oh_process_cost #USD/t"
   ]
  },
  {
   "cell_type": "code",
   "execution_count": 17,
   "metadata": {},
   "outputs": [
    {
     "name": "stdout",
     "output_type": "stream",
     "text": [
      "90691.64265129683\n"
     ]
    }
   ],
   "source": [
    "#Lithium price will have to come from LiOH-H2O price because metallic lithium isn't traded. \n",
    "#Let's normalize the LiOH-H2O price to be on a per g Li basis to match the others.\n",
    "#Note that this is not subject to hydroxide process cost shown above because it comes as hydroxide.\n",
    "lioh_h2o_price = 15000 #USD/t\n",
    "lioh_h2o_mw = 41.96 #g/mol\n",
    "li_mw = 6.94\n",
    "\n",
    "#To get 1t of Li metal, you'll need 41.96/6.94 tons of LiOH. Therfore Li price = lioh-h2o price * 41.96/6.94\n",
    "mw_ratio = 41.96/6.94\n",
    "li_price = lioh_h2o_price * mw_ratio\n",
    "print(li_price)"
   ]
  },
  {
   "cell_type": "code",
   "execution_count": 18,
   "metadata": {},
   "outputs": [],
   "source": [
    "metals_prices = {'li':li_price,'ni':ni_price,'mn':mn_price,'co':co_price,'al':al_price,'o':0}"
   ]
  },
  {
   "cell_type": "code",
   "execution_count": 19,
   "metadata": {},
   "outputs": [],
   "source": [
    "#Finally, we add the cost for turning the raw hydroxide powders into the cathode powder. \n",
    "#This process involves baking around 500-700C in oxygen. Estimates are around 50-200 USD/ton active material. (source?)\n",
    "synthesis_process_cost = 150 #USD per ton active material"
   ]
  },
  {
   "cell_type": "code",
   "execution_count": 20,
   "metadata": {},
   "outputs": [],
   "source": [
    "#Now, for every cathode composition, we can easily calculate the total materials cost:\n",
    "def get_cathode_cost(formula,cell_energy,cat_mass_per_cell=cat_mass_per_cell,metals_prices=metals_prices,\n",
    "                     synthesis_process_cost=synthesis_process_cost):\n",
    "    '''\n",
    "    Calculates total cost per kWh of a given cathode chemistry, including materials and processing costs.\n",
    "    '''\n",
    "    \n",
    "    #Metals cost\n",
    "    #Get masses of each metal in the cathode:\n",
    "    material_mass = get_material_mass_kwh(formula,cell_energy,cat_mass_per_cell)\n",
    "    #Then loop through each element in cathode:\n",
    "    cat_metals_cost = 0\n",
    "    for i in material_mass:\n",
    "        cat_metals_cost += material_mass[i]/1e6 * metals_prices[i]\n",
    "        \n",
    "    #Cathode other materials cost (binder, carbon black, al foil):\n",
    "    cat_other_cost = (cblack_mass/1e6)*cblack_price + (pvdf_mass/1e3)*pvdf_price + (alfoil_mass/1e6)*alfoil_price\n",
    "        \n",
    "    #Processing cost:\n",
    "    cat_mass_per_kwh = cat_mass_per_cell*get_n_cells_per_kwh(cell_energy) #g\n",
    "    cat_process_cost = (cat_mass_per_kwh/1e6)*synthesis_process_cost\n",
    "    \n",
    "    return {'cat_metals':cat_metals_cost,'cat_other':cat_other_cost,'cat_process':cat_process_cost}"
   ]
  },
  {
   "cell_type": "code",
   "execution_count": 21,
   "metadata": {},
   "outputs": [],
   "source": [
    "[nmc111_cost,nmc523_cost,nmc622_cost,nmc811_cost,ni100_cost] = [get_cathode_cost(nmc111_formula,nmc111_energy),\n",
    "                                                                get_cathode_cost(nmc523_formula,nmc523_energy),\n",
    "                                                                get_cathode_cost(nmc622_formula,nmc622_energy),\n",
    "                                                                get_cathode_cost(nmc811_formula,nmc811_energy),\n",
    "                                                                get_cathode_cost(ni100_formula,ni100_energy)]"
   ]
  },
  {
   "cell_type": "code",
   "execution_count": 22,
   "metadata": {},
   "outputs": [
    {
     "data": {
      "text/plain": [
       "{'cat_metals': 35.48118487578933,\n",
       " 'cat_other': 0.012928726530612243,\n",
       " 'cat_process': 0.26041666666666663}"
      ]
     },
     "execution_count": 22,
     "metadata": {},
     "output_type": "execute_result"
    }
   ],
   "source": [
    "nmc111_cost"
   ]
  },
  {
   "cell_type": "markdown",
   "metadata": {},
   "source": [
    "Want to think about some ways to structure this data more effectively for analysis - there should eventually be a pie chart showing the breakdown of cell cost between various cathode materials, processing costs, anode costs, cell can, etc."
   ]
  },
  {
   "cell_type": "markdown",
   "metadata": {},
   "source": [
    "## 2. Anode Cost"
   ]
  },
  {
   "cell_type": "markdown",
   "metadata": {},
   "source": [
    "First, we want to get the total mass of active anode material per cell."
   ]
  },
  {
   "cell_type": "code",
   "execution_count": 23,
   "metadata": {},
   "outputs": [],
   "source": [
    "# Now we use our assumptions to calculate the anode loading and total cell energy\n",
    "#getting mAh/cm2:\n",
    "def get_anode_loading(cat_capacity, cat_loading = cat_loading, an_capacity = an_capacity, np_ratio = np_ratio):\n",
    "    cat_area_capacity = cat_capacity * (.001*cat_loading) #mAh/cm2\n",
    "    an_area_capacity = cat_area_capacity*np_ratio #mAh/cm2\n",
    "    an_loading = an_area_capacity/an_capacity*1000 #mg/cm2\n",
    "    return an_loading\n",
    "\n",
    "# getting total anode mass: \n",
    "def get_graphite_mass_kwh(cat_capacity, cell_energy,cat_loading = cat_loading):\n",
    "    an_loading = get_anode_loading(cat_capacity, cat_loading = cat_loading)\n",
    "    gr_mass_per_cell = an_loading*.001 * 2*one_sided_area #g\n",
    "    gr_mass_per_kwh = gr_mass_per_cell * get_n_cells_per_kwh(cell_energy)\n",
    "    return gr_mass_per_kwh #graphite mass in g\n",
    "\n",
    "def get_cu_mass_kwh(cat_capacity, cell_energy, one_sided_area, cu_thickness = 10):\n",
    "    #cu_thickness in microns\n",
    "    cu_density = 8.96 #g/cm3\n",
    "    cu_mass_per_cell = one_sided_area*(cu_thickness*1e-4)*cu_density #g\n",
    "    cu_mass_per_kwh = cu_mass_per_cell*get_n_cells_per_kwh(cell_energy) #g\n",
    "    return cu_mass_per_kwh"
   ]
  },
  {
   "cell_type": "code",
   "execution_count": 24,
   "metadata": {},
   "outputs": [
    {
     "data": {
      "text/plain": [
       "787.0370370370371"
      ]
     },
     "execution_count": 24,
     "metadata": {},
     "output_type": "execute_result"
    }
   ],
   "source": [
    "get_graphite_mass_kwh(nmc111_cap,nmc111_energy)"
   ]
  },
  {
   "cell_type": "markdown",
   "metadata": {},
   "source": [
    "We'll just assume a 98:2 of active material to binder. Assume SBR is only binder."
   ]
  },
  {
   "cell_type": "code",
   "execution_count": 25,
   "metadata": {},
   "outputs": [],
   "source": [
    "graphite_price = 2000 #USD/t, Guangzhou Billion Peak Chemical Technology Co., Ltd.\n",
    "sbr_price = 1500 #USD/t, sbr will be assumed as only binder\n",
    "cu_price = 5951*2 #USD/t, LME, multiplied by 2 because Cu in micron foil form is much more expensive.\n",
    "an_prices = {'graphite': graphite_price,'sbr':sbr_price,'cu':cu_price}"
   ]
  },
  {
   "cell_type": "code",
   "execution_count": 26,
   "metadata": {},
   "outputs": [],
   "source": [
    "def get_anode_cost(cat_capacity, cell_energy, cat_loading=cat_loading, an_prices=an_prices):\n",
    "    gr_cost = an_prices['graphite'] * get_graphite_mass_kwh(cat_capacity, cell_energy)/1e6\n",
    "    sbr_cost = an_prices['sbr'] * (2/98)*get_graphite_mass_kwh(cat_capacity, cell_energy)/1e6\n",
    "    cu_cost = an_prices['cu'] * get_cu_mass_kwh(cat_capacity, cell_energy, one_sided_area, cu_thickness = 10)/1e6\n",
    "    return gr_cost+sbr_cost+cu_cost"
   ]
  },
  {
   "cell_type": "code",
   "execution_count": 27,
   "metadata": {},
   "outputs": [
    {
     "data": {
      "text/plain": [
       "5.301011489040061"
      ]
     },
     "execution_count": 27,
     "metadata": {},
     "output_type": "execute_result"
    }
   ],
   "source": [
    "get_anode_cost(nmc111_cap,nmc111_energy)"
   ]
  },
  {
   "cell_type": "markdown",
   "metadata": {},
   "source": [
    "## 3. Other Cell Materials"
   ]
  },
  {
   "cell_type": "markdown",
   "metadata": {},
   "source": [
    "Electrolyte: just assume a flat cost of 0.2 USD per cell. Reasonable based on BNEF estimates."
   ]
  },
  {
   "cell_type": "code",
   "execution_count": 28,
   "metadata": {},
   "outputs": [],
   "source": [
    "def get_electrolyte_cost(cell_energy,el_cost_per_cell = 0.2):\n",
    "    '''Returns cost in USD/kWh for electrolyte.'''\n",
    "    return get_n_cells_per_kwh(cell_energy) * el_cost_per_cell"
   ]
  },
  {
   "cell_type": "markdown",
   "metadata": {},
   "source": [
    "Cell Can: Assume flat cost of 0.2 USD per cell also."
   ]
  },
  {
   "cell_type": "code",
   "execution_count": 29,
   "metadata": {},
   "outputs": [],
   "source": [
    "def get_can_cost(cell_energy,can_cost_per_cell = 0.2):\n",
    "    '''Returns cost in USD/kWh for can.'''\n",
    "    return get_n_cells_per_kwh(cell_energy) * can_cost_per_cell"
   ]
  },
  {
   "cell_type": "markdown",
   "metadata": {},
   "source": [
    "Separator: Assume flat cost of 0.05 USD/cell"
   ]
  },
  {
   "cell_type": "code",
   "execution_count": 30,
   "metadata": {},
   "outputs": [],
   "source": [
    "def get_sep_cost(cell_energy,sep_cost_per_cell = 0.05):\n",
    "    '''Returns cost in USD/kWh for separator.'''\n",
    "    return get_n_cells_per_kwh(cell_energy) * sep_cost_per_cell"
   ]
  },
  {
   "cell_type": "markdown",
   "metadata": {},
   "source": [
    "## 4. Manufacturing Cost\n",
    "This includes electrode calendering, winding, wetting, tabbing, crimping, etc. Because this requires a large number of steps, this number is inherently very uncertain. We'll just assume a flat cost of 0.5 USD per cell."
   ]
  },
  {
   "cell_type": "code",
   "execution_count": 31,
   "metadata": {},
   "outputs": [],
   "source": [
    "def get_cell_manufacturing_cost(cell_energy,mfg_cost_per_cell = 0.5):\n",
    "    '''Returns cost in USD/kWh for cell manufacturing.'''\n",
    "    return get_n_cells_per_kwh(cell_energy) * mfg_cost_per_cell"
   ]
  },
  {
   "cell_type": "markdown",
   "metadata": {},
   "source": [
    "Another significant cost is depreciation of capital. Cell manufacturing requires significant capital investment, which must be replaced over time. We will also assume this cost is on a per cell basis. \n",
    "\n",
    "This number has a very high degree of uncertainty due to uncertainty in equipment cost and in number of cells that can be produced. Reasoable estimates put the figure at around 0.3 USD/cell."
   ]
  },
  {
   "cell_type": "code",
   "execution_count": 32,
   "metadata": {},
   "outputs": [],
   "source": [
    "def get_cell_depreciation_cost(cell_energy,dep_cost_per_cell):\n",
    "    '''Returns cost in USD/kWh for cell manufacturing.\n",
    "    Default = .3 USD/cell'''\n",
    "    return get_n_cells_per_kwh(cell_energy) * dep_cost_per_cell"
   ]
  },
  {
   "cell_type": "markdown",
   "metadata": {},
   "source": [
    "## 5. Manufacturing Yield and Contingency"
   ]
  },
  {
   "cell_type": "markdown",
   "metadata": {},
   "source": [
    "During manufacturing, some cells will inevitably fail due to manufacturing defects. Siginificant effort has gone toward improving manufacturing yields, but they still add a great deal of cost.\n",
    "\n",
    "We will assume a manufacturing yield rate of 95% on a cell basis. This will cause the cost per cell to be multiplied by (100/98)."
   ]
  },
  {
   "cell_type": "markdown",
   "metadata": {},
   "source": [
    "We will also add a 15% contingency cost for other miscellaneous costs like labor and transportation."
   ]
  },
  {
   "cell_type": "code",
   "execution_count": 33,
   "metadata": {},
   "outputs": [],
   "source": [
    "def get_adjustment_coeff(yield_rate,contingency):\n",
    "    '''Get adjustment coefficient for costs. Inputs are yield rate and contingency rate in fraction form.\n",
    "    Default yield rate = .95 and contingency is .15 (15%).\n",
    "    Multiply all final costs by this adjustment coeff to get actaul cost.'''\n",
    "    return (1/yield_rate)*(1+contingency)"
   ]
  },
  {
   "cell_type": "markdown",
   "metadata": {},
   "source": [
    "## Pack Costs\n",
    "Assuming flat cost of .6 USD/cell."
   ]
  },
  {
   "cell_type": "code",
   "execution_count": 34,
   "metadata": {},
   "outputs": [],
   "source": [
    "def get_pack_cost(cell_energy,pack_cost_per_cell = 0.6):\n",
    "    '''Returns cost in USD/kWh for cell manufacturing.'''\n",
    "    return get_n_cells_per_kwh(cell_energy) * pack_cost_per_cell"
   ]
  },
  {
   "cell_type": "markdown",
   "metadata": {},
   "source": [
    "## 6. Full Model\n",
    "Now that we have a method for calculating each cost, we can sum the results to get our total cost estimate and a cost breakdown."
   ]
  },
  {
   "cell_type": "code",
   "execution_count": 35,
   "metadata": {},
   "outputs": [],
   "source": [
    "def get_full_cost_kwh(cat_capacity, cell_energy, formula):\n",
    "    \n",
    "    #Initialize dictionary:\n",
    "    full_cost = {}\n",
    "    #Cathode cost section:\n",
    "    cathode_cost = get_cathode_cost(formula,cell_energy,cat_mass_per_cell=cat_mass_per_cell,metals_prices=metals_prices,\n",
    "                     synthesis_process_cost=synthesis_process_cost)\n",
    "    full_cost['cat_metals'] = cathode_cost['cat_metals']\n",
    "    full_cost['cat_other'] = cathode_cost['cat_other']\n",
    "    full_cost['cat_process'] = cathode_cost['cat_process']\n",
    "    \n",
    "    #Anode:\n",
    "    full_cost['anode'] = get_anode_cost(cat_capacity, cell_energy, cat_loading=cat_loading, an_prices=an_prices)\n",
    "    \n",
    "    #Other Cell Materials:\n",
    "    full_cost['other_materials'] = (get_electrolyte_cost(cell_energy,el_cost_per_cell = 0.2) + \n",
    "                                    get_can_cost(cell_energy,can_cost_per_cell = 0.2) + \n",
    "                                    get_sep_cost(cell_energy,sep_cost_per_cell = 0.05))\n",
    "    \n",
    "    #Processing and Depreciation Cost:\n",
    "    full_cost['cell_mfg'] = get_cell_manufacturing_cost(cell_energy,mfg_cost_per_cell = 0.5)\n",
    "    full_cost['depreciation'] = get_cell_depreciation_cost(cell_energy,dep_cost_per_cell = 0.3)\n",
    "    \n",
    "    #Yield and contingency\n",
    "    adjustment_coeff = get_adjustment_coeff(yield_rate = .95, contingency = .15)\n",
    "    \n",
    "    #Using the adjustment coeff:\n",
    "    for i in full_cost:\n",
    "        full_cost[i] = adjustment_coeff*full_cost[i]\n",
    "        \n",
    "    #Pack Cost:\n",
    "    full_cost['pack'] = get_pack_cost(cell_energy,pack_cost_per_cell = 0.6)\n",
    "    \n",
    "    print(\"Full pack level cost = \" + str(get_total_cost(full_cost)) + \" USD/kWh.\")\n",
    "    \n",
    "    return full_cost\n",
    "\n",
    "def get_total_cost(full_cost):\n",
    "    total_cost = 0\n",
    "    for i in full_cost:\n",
    "        total_cost += full_cost[i]\n",
    "    return total_cost"
   ]
  },
  {
   "cell_type": "code",
   "execution_count": 36,
   "metadata": {},
   "outputs": [
    {
     "name": "stdout",
     "output_type": "stream",
     "text": [
      "Full pack level cost = 170.97738893302852 USD/kWh.\n"
     ]
    },
    {
     "data": {
      "text/plain": [
       "{'cat_metals': 42.950908007534444,\n",
       " 'cat_other': 0.015650563694951658,\n",
       " 'cat_process': 0.31524122807017535,\n",
       " 'anode': 6.417013907785336,\n",
       " 'other_materials': 31.263592866463675,\n",
       " 'cell_mfg': 34.73732540718186,\n",
       " 'depreciation': 20.842395244309113,\n",
       " 'pack': 34.43526170798898}"
      ]
     },
     "execution_count": 36,
     "metadata": {},
     "output_type": "execute_result"
    }
   ],
   "source": [
    "get_full_cost_kwh(nmc111_cap, nmc111_energy, nmc111_formula)"
   ]
  },
  {
   "cell_type": "code",
   "execution_count": 37,
   "metadata": {},
   "outputs": [
    {
     "name": "stdout",
     "output_type": "stream",
     "text": [
      "Full pack level cost = 166.68962575403995 USD/kWh.\n"
     ]
    },
    {
     "data": {
      "text/plain": [
       "{'cat_metals': 42.4836359527061,\n",
       " 'cat_other': 0.015650563694951658,\n",
       " 'cat_process': 0.3056884635832004,\n",
       " 'anode': 6.281183888292159,\n",
       " 'other_materials': 30.316211264449628,\n",
       " 'cell_mfg': 33.68467918272181,\n",
       " 'depreciation': 20.21080750963308,\n",
       " 'pack': 33.39176892895901}"
      ]
     },
     "execution_count": 37,
     "metadata": {},
     "output_type": "execute_result"
    }
   ],
   "source": [
    "get_full_cost_kwh(nmc523_cap, nmc523_energy, nmc523_formula)"
   ]
  },
  {
   "cell_type": "code",
   "execution_count": 38,
   "metadata": {},
   "outputs": [
    {
     "name": "stdout",
     "output_type": "stream",
     "text": [
      "Full pack level cost = 157.79442078812235 USD/kWh.\n"
     ]
    },
    {
     "data": {
      "text/plain": [
       "{'cat_metals': 37.184187338939374,\n",
       " 'cat_other': 0.015650563694951658,\n",
       " 'cat_process': 0.2966976264189885,\n",
       " 'anode': 6.153343869945637,\n",
       " 'other_materials': 29.42455799196581,\n",
       " 'cell_mfg': 32.69395332440645,\n",
       " 'depreciation': 19.61637199464387,\n",
       " 'pack': 32.40965807810727}"
      ]
     },
     "execution_count": 38,
     "metadata": {},
     "output_type": "execute_result"
    }
   ],
   "source": [
    "get_full_cost_kwh(nmc622_cap, nmc622_energy, nmc622_formula)"
   ]
  },
  {
   "cell_type": "code",
   "execution_count": 39,
   "metadata": {},
   "outputs": [
    {
     "name": "stdout",
     "output_type": "stream",
     "text": [
      "Full pack level cost = 146.85819695847115 USD/kWh.\n"
     ]
    },
    {
     "data": {
      "text/plain": [
       "{'cat_metals': 32.84018348823134,\n",
       " 'cat_other': 0.015650563694951658,\n",
       " 'cat_process': 0.280214424951267,\n",
       " 'anode': 5.918970502977019,\n",
       " 'other_materials': 27.78986032574549,\n",
       " 'cell_mfg': 30.877622584161653,\n",
       " 'depreciation': 18.52657355049699,\n",
       " 'pack': 30.609121518212426}"
      ]
     },
     "execution_count": 39,
     "metadata": {},
     "output_type": "execute_result"
    }
   ],
   "source": [
    "get_full_cost_kwh(nmc811_cap, nmc811_energy, nmc811_formula)"
   ]
  },
  {
   "cell_type": "code",
   "execution_count": 40,
   "metadata": {},
   "outputs": [
    {
     "name": "stdout",
     "output_type": "stream",
     "text": [
      "Full pack level cost = 137.0886737213488 USD/kWh.\n"
     ]
    },
    {
     "data": {
      "text/plain": [
       "{'cat_metals': 28.968962337531853,\n",
       " 'cat_other': 0.015650563694951658,\n",
       " 'cat_process': 0.26546629732225296,\n",
       " 'anode': 5.709268016741938,\n",
       " 'other_materials': 26.327236098074675,\n",
       " 'cell_mfg': 29.252484553416306,\n",
       " 'depreciation': 17.551490732049782,\n",
       " 'pack': 28.99811512251704}"
      ]
     },
     "execution_count": 40,
     "metadata": {},
     "output_type": "execute_result"
    }
   ],
   "source": [
    "get_full_cost_kwh(ni100_cap, ni100_energy, ni100_formula)"
   ]
  },
  {
   "cell_type": "code",
   "execution_count": 41,
   "metadata": {},
   "outputs": [
    {
     "name": "stdout",
     "output_type": "stream",
     "text": [
      "Full pack level cost = 144.28889707437227 USD/kWh.\n"
     ]
    },
    {
     "data": {
      "text/plain": [
       "{'cat_metals': 36.169185690555324,\n",
       " 'cat_other': 0.015650563694951658,\n",
       " 'cat_process': 0.26546629732225296,\n",
       " 'anode': 5.709268016741938,\n",
       " 'other_materials': 26.327236098074675,\n",
       " 'cell_mfg': 29.252484553416306,\n",
       " 'depreciation': 17.551490732049782,\n",
       " 'pack': 28.99811512251704}"
      ]
     },
     "execution_count": 41,
     "metadata": {},
     "output_type": "execute_result"
    }
   ],
   "source": [
    "get_full_cost_kwh(nmc111mod_cap, nmc111mod_energy, nmc111mod_formula)"
   ]
  },
  {
   "cell_type": "code",
   "execution_count": 42,
   "metadata": {},
   "outputs": [
    {
     "name": "stdout",
     "output_type": "stream",
     "text": [
      "Full pack level cost = 158.71231959751788 USD/kWh.\n"
     ]
    },
    {
     "data": {
      "text/plain": [
       "{'cat_metals': 38.10208614833491,\n",
       " 'cat_other': 0.015650563694951658,\n",
       " 'cat_process': 0.2966976264189885,\n",
       " 'anode': 6.153343869945637,\n",
       " 'other_materials': 29.42455799196581,\n",
       " 'cell_mfg': 32.69395332440645,\n",
       " 'depreciation': 19.61637199464387,\n",
       " 'pack': 32.40965807810727}"
      ]
     },
     "execution_count": 42,
     "metadata": {},
     "output_type": "execute_result"
    }
   ],
   "source": [
    "get_full_cost_kwh(nca801505_cap, nca801505_energy, nca801505_formula)"
   ]
  },
  {
   "cell_type": "code",
   "execution_count": 43,
   "metadata": {},
   "outputs": [
    {
     "name": "stdout",
     "output_type": "stream",
     "text": [
      "Full pack level cost = 147.81974176907568 USD/kWh.\n"
     ]
    },
    {
     "data": {
      "text/plain": [
       "{'cat_metals': 33.80172829883588,\n",
       " 'cat_other': 0.015650563694951658,\n",
       " 'cat_process': 0.280214424951267,\n",
       " 'anode': 5.918970502977019,\n",
       " 'other_materials': 27.78986032574549,\n",
       " 'cell_mfg': 30.877622584161653,\n",
       " 'depreciation': 18.52657355049699,\n",
       " 'pack': 30.609121518212426}"
      ]
     },
     "execution_count": 43,
     "metadata": {},
     "output_type": "execute_result"
    }
   ],
   "source": [
    "get_full_cost_kwh(nca880903_cap, nca880903_energy, nca880903_formula)"
   ]
  },
  {
   "cell_type": "code",
   "execution_count": 44,
   "metadata": {},
   "outputs": [
    {
     "data": {
      "text/plain": [
       "20.691"
      ]
     },
     "execution_count": 44,
     "metadata": {},
     "output_type": "execute_result"
    }
   ],
   "source": [
    "ni100_energy"
   ]
  },
  {
   "cell_type": "code",
   "execution_count": null,
   "metadata": {},
   "outputs": [],
   "source": []
  }
 ],
 "metadata": {
  "file_extension": ".py",
  "kernelspec": {
   "display_name": "Python 3",
   "language": "python",
   "name": "python3"
  },
  "language_info": {
   "codemirror_mode": {
    "name": "ipython",
    "version": 3
   },
   "file_extension": ".py",
   "mimetype": "text/x-python",
   "name": "python",
   "nbconvert_exporter": "python",
   "pygments_lexer": "ipython3",
   "version": "3.6.5"
  },
  "mimetype": "text/x-python",
  "name": "python",
  "npconvert_exporter": "python",
  "pygments_lexer": "ipython3",
  "version": 3
 },
 "nbformat": 4,
 "nbformat_minor": 2
}
